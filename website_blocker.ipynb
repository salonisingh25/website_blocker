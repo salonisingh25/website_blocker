{
 "cells": [
  {
   "cell_type": "code",
   "execution_count": null,
   "metadata": {},
   "outputs": [],
   "source": [
    "import time\n",
    "from datetime import datetime as dt\n",
    "\n",
    "hostsPath = r\"C:\\Windows\\System32\\drivers\\etc\\hosts\"\n",
    "\n",
    "#localhost's own system IP \n",
    "redirect = \"127.0.0.1\"\n",
    "  \n",
    "#websites that are to be blocked\n",
    "websiteList = \n",
    "[\"www.dummywebsite.com\",\"test.com\", \n",
    "      \"dummymail.com\"]\n",
    "\n",
    "while True:\n",
    "\n",
    "    #time of work\n",
    "    #change last numerical value to change period of time\n",
    "    #for which the websites will be blocked [24hrs format]\n",
    "\n",
    "    if dt(dt.now().year, dt.now().month, dt.now().day,9) \n",
    "    < dt.now() < dt(dt.now().year, dt.now().month, dt.now().day,17):\n",
    "\n",
    "        print(\"Work hours!\")\n",
    "        with open(hostsPath, 'r+') as file:\n",
    "            content = file.read()\n",
    "            for website in websiteList:\n",
    "                if website in content:\n",
    "                    pass\n",
    "                else:\n",
    "                    #map hostnames to the localhost IP address\n",
    "                    file.write(redirect + \" \" + website + \"\\n\")\n",
    "    else:\n",
    "        with open(hostsPath, 'r+') as file:\n",
    "            content=file.readlines()\n",
    "            file.seek(0)\n",
    "            for line in content:\n",
    "                if not any(website in line for website in websiteList):\n",
    "                    file.write(line)\n",
    "\n",
    "            #remove hostnames from host file\n",
    "            file.truncate()\n",
    "\n",
    "        print(\"Non-work hours!\")\n",
    "    time.sleep(5)"
   ]
  }
 ],
 "metadata": {
  "kernelspec": {
   "display_name": "Python 3",
   "language": "python",
   "name": "python3"
  },
  "language_info": {
   "codemirror_mode": {
    "name": "ipython",
    "version": 3
   },
   "file_extension": ".py",
   "mimetype": "text/x-python",
   "name": "python",
   "nbconvert_exporter": "python",
   "pygments_lexer": "ipython3",
   "version": "3.8.3"
  }
 },
 "nbformat": 4,
 "nbformat_minor": 4
}
